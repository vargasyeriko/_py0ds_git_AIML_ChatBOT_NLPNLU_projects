{
 "cells": [
  {
   "cell_type": "markdown",
   "id": "97fabf74",
   "metadata": {},
   "source": [
    "# BUILD A NLP NEURAL NETWORK - BY YERIKO VARGAS"
   ]
  },
  {
   "cell_type": "markdown",
   "id": "c5621c84",
   "metadata": {},
   "source": [
    "This Python script demonstrates a basic framework for Natural Language Processing (NLP) using NLTK and for Deep Learning using Keras.\n",
    "\n",
    "In the NLP section, we tokenized the sentences and words, filtered out stop words, and applied lemmatization.\n",
    "\n",
    "In the Deep Learning section, we preprocessed the data by splitting it into training and testing sets. We then built a simple neural network model, compiled it, trained it, and finally evaluated its accuracy."
   ]
  },
  {
   "cell_type": "code",
   "execution_count": null,
   "id": "69c31ca9",
   "metadata": {},
   "outputs": [],
   "source": [
    "#                                      Text Input\n",
    "#                                           |\n",
    "#                                      Tokenization\n",
    "#                                           |\n",
    "#                                  Data Preprocessing\n",
    "#                                           |\n",
    "#                                  Neural Network Model\n",
    "#                                           |\n",
    "#                                       Training\n",
    "#                                           |\n",
    "#                                     Evaluation\n",
    "#                                           |\n",
    "#                                   Predict Bad Words\n",
    "\n",
    "\n",
    "\n",
    "# Natural Language Processing (NLP) Basic Framework using NLTK\n",
    "# -------------------------------------------------------------\n",
    "# Library Import\n",
    "from nltk.tokenize import word_tokenize\n",
    "from nltk.corpus import stopwords\n",
    "from sklearn.model_selection import train_test_split\n",
    "from tensorflow.keras.models import Sequential\n",
    "from tensorflow.keras.layers import Dense\n",
    "from tensorflow.keras.preprocessing.text import Tokenizer\n",
    "from tensorflow.keras.preprocessing.sequence import pad_sequences\n",
    "import numpy as np\n",
    "\n",
    "# Predefined list of bad words (You can expand this list)\n",
    "bad_words = ['badword1', 'badword2']\n",
    "\n",
    "# Sample Data (0 for clean text, 1 for text with bad words)\n",
    "sentences = [\"This is a clean sentence\", \"This sentence contains a badword1\"]\n",
    "labels = [0, 1]\n",
    "\n",
    "# Data Preprocessing\n",
    "tokenizer = Tokenizer(oov_token=\"<OOV>\")\n",
    "tokenizer.fit_on_texts(sentences)\n",
    "sequences = tokenizer.texts_to_sequences(sentences)\n",
    "padded_sequences = pad_sequences(sequences, padding=\"post\")\n",
    "\n",
    "# Prepare labels\n",
    "labels = np.array(labels)\n",
    "\n",
    "# Split Data\n",
    "x_train, x_test, y_train, y_test = train_test_split(padded_sequences, labels, test_size=0.2)\n",
    "\n",
    "# Build Model\n",
    "model = Sequential([\n",
    "    Dense(12, input_shape=(x_train.shape[1],), activation='relu'),\n",
    "    Dense(12, activation='relu'),\n",
    "    Dense(1, activation='sigmoid')\n",
    "])\n",
    "\n",
    "# Compile\n",
    "model.compile(loss='binary_crossentropy', optimizer='adam', metrics=['accuracy'])\n",
    "\n",
    "# Train\n",
    "model.fit(x_train, y_train, epochs=15, batch_size=10)\n",
    "\n",
    "# Evaluate\n",
    "_, accuracy = model.evaluate(x_test, y_test)\n",
    "print(f\"Model accuracy: {accuracy*100:.2f}%\")\n",
    "\n",
    "# Prediction function\n",
    "def predict_bad_words(sentence):\n",
    "    sequence = tokenizer.texts_to_sequences([sentence])\n",
    "    padded_sequence = pad_sequences(sequence, padding=\"post\", maxlen=x_train.shape[1])\n",
    "    prediction = model.predict(padded_sequence)\n",
    "    return True if prediction > 0.5 else False\n",
    "\n",
    "# Test prediction function\n",
    "result = predict_bad_words(\"This is a sentence with badword1\")\n",
    "print(\"Contains bad words:\", result)\n",
    "\n"
   ]
  },
  {
   "cell_type": "code",
   "execution_count": null,
   "id": "980e75ec",
   "metadata": {},
   "outputs": [],
   "source": []
  },
  {
   "cell_type": "code",
   "execution_count": null,
   "id": "ef32138b",
   "metadata": {},
   "outputs": [],
   "source": []
  }
 ],
 "metadata": {
  "kernelspec": {
   "display_name": "Python 3 (ipykernel)",
   "language": "python",
   "name": "python3"
  },
  "language_info": {
   "codemirror_mode": {
    "name": "ipython",
    "version": 3
   },
   "file_extension": ".py",
   "mimetype": "text/x-python",
   "name": "python",
   "nbconvert_exporter": "python",
   "pygments_lexer": "ipython3",
   "version": "3.10.9"
  }
 },
 "nbformat": 4,
 "nbformat_minor": 5
}
