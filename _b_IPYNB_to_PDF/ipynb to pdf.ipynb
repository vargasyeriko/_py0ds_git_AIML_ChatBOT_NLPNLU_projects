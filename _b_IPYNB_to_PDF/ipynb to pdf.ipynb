{
 "cells": [
  {
   "cell_type": "code",
   "execution_count": 1,
   "id": "b25a3b0a",
   "metadata": {},
   "outputs": [
    {
     "name": "stdout",
     "output_type": "stream",
     "text": [
      "ATTN - > TO start coding in this NOTEBOOK & following FNS :::  run ::: hi_jupy()\n",
      "ATTN at the end RUN > py and cleans py ready to be copied >  runpy()\n",
      "ATTN - > TO get all GLOBAL, libs and functions & ALL_DATA inputs, stats, temp, tables files info > db_paths()\n",
      "ATTN - > TO move files from input to curr_direc > move_files(input_folder_path, curr_direc)\n",
      "ATTN - > TO COPY program > copy_files_and_subdirectories(path_2_copy, dest_direc) --- respects original copied\n",
      "ATTN - > TO get all GAME PLANS TO EXPORT ALPHA and BETA programs  > game_plan()\n",
      "define program_folder_name before running runpy()\n"
     ]
    }
   ],
   "source": [
    "exec(open(f\"/Users/yerik/_apple_source/PY/GLOBAL/_1_paths.py\",encoding=\"utf-8\").read()) #paths\n"
   ]
  },
  {
   "cell_type": "markdown",
   "id": "2d14d14b",
   "metadata": {},
   "source": [
    "# ONE SINGLE ONE"
   ]
  },
  {
   "cell_type": "code",
   "execution_count": 1,
   "id": "2cee5313",
   "metadata": {},
   "outputs": [
    {
     "name": "stderr",
     "output_type": "stream",
     "text": [
      "[NbConvertApp] Converting notebook Automated Text Extraction and Data Analytics Assistant - by Yeriko Vargas.ipynb to pdf\n",
      "[NbConvertApp] Writing 31277 bytes to notebook.tex\n",
      "[NbConvertApp] Building PDF\n",
      "[NbConvertApp] Running xelatex 3 times: ['xelatex', 'notebook.tex', '-quiet']\n",
      "[NbConvertApp] Running bibtex 1 time: ['bibtex', 'notebook']\n",
      "[NbConvertApp] WARNING | bibtex had problems, most likely because there were no citations\n",
      "[NbConvertApp] PDF successfully created\n",
      "[NbConvertApp] Writing 48424 bytes to your_output.pdf\n"
     ]
    }
   ],
   "source": [
    "import os\n",
    "import subprocess\n",
    "\n",
    "def convert_ipynb_to_pdf(ipynb_path, output_path):\n",
    "    \"\"\"\n",
    "    Converts a Jupyter Notebook file to PDF.\n",
    "\n",
    "    Parameters:\n",
    "        ipynb_path (str): Path to the Jupyter Notebook file. # ^^^ path ^^^\n",
    "        output_path (str): Path where the output PDF will be saved. # ^^^ path ^^^\n",
    "    \"\"\"\n",
    "    # Build the nbconvert command\n",
    "    command = [\n",
    "        \"jupyter\",\n",
    "        \"nbconvert\",\n",
    "        \"--to=pdf\",\n",
    "        ipynb_path,\n",
    "        \"--output\",\n",
    "        output_path\n",
    "    ]\n",
    "    \n",
    "    # Run the command\n",
    "    subprocess.run(command)\n",
    "\n",
    "# Example usage\n",
    "ipynb_path = 'Automated Text Extraction and Data Analytics Assistant - by Yeriko Vargas.ipynb'  # Replace with the path to your .ipynb file # ^^^ path ^^^\n",
    "output_path = 'your_output.pdf'  # Replace with the desired output path for the .pdf file # ^^^ path ^^^\n",
    "convert_ipynb_to_pdf(ipynb_path, output_path)\n"
   ]
  },
  {
   "cell_type": "markdown",
   "id": "5e78f1ca",
   "metadata": {},
   "source": [
    "# ALL FOLDER ipynb to PDF"
   ]
  },
  {
   "cell_type": "code",
   "execution_count": 1,
   "id": "3d95109f",
   "metadata": {},
   "outputs": [
    {
     "name": "stderr",
     "output_type": "stream",
     "text": [
      "[NbConvertApp] Converting notebook IPYNB_presentations/OCR_Based_Data_Management_Virtual_Assistant.ipynb to pdf\n",
      "[NbConvertApp] Writing 31252 bytes to notebook.tex\n",
      "[NbConvertApp] Building PDF\n",
      "[NbConvertApp] Running xelatex 3 times: ['xelatex', 'notebook.tex', '-quiet']\n",
      "[NbConvertApp] Running bibtex 1 time: ['bibtex', 'notebook']\n",
      "[NbConvertApp] WARNING | bibtex had problems, most likely because there were no citations\n",
      "[NbConvertApp] PDF successfully created\n",
      "[NbConvertApp] Writing 47928 bytes to IPYNB_presentations/../PDFs_presentations/OCR_Based_Data_Management_Virtual_Assistant.pdf\n",
      "[NbConvertApp] Converting notebook IPYNB_presentations/generate_sentences_to_text_Presentation.ipynb to pdf\n",
      "[NbConvertApp] Writing 27678 bytes to notebook.tex\n",
      "[NbConvertApp] Building PDF\n",
      "[NbConvertApp] Running xelatex 3 times: ['xelatex', 'notebook.tex', '-quiet']\n",
      "[NbConvertApp] Running bibtex 1 time: ['bibtex', 'notebook']\n",
      "[NbConvertApp] WARNING | bibtex had problems, most likely because there were no citations\n",
      "[NbConvertApp] PDF successfully created\n",
      "[NbConvertApp] Writing 44298 bytes to IPYNB_presentations/../PDFs_presentations/generate_sentences_to_text_Presentation.pdf\n",
      "[NbConvertApp] Converting notebook IPYNB_presentations/Automated_Data_Processing_Yeriko_Vargas.ipynb to pdf\n",
      "[NbConvertApp] Writing 40966 bytes to notebook.tex\n",
      "[NbConvertApp] Building PDF\n",
      "[NbConvertApp] Running xelatex 3 times: ['xelatex', 'notebook.tex', '-quiet']\n",
      "[NbConvertApp] Running bibtex 1 time: ['bibtex', 'notebook']\n",
      "[NbConvertApp] WARNING | bibtex had problems, most likely because there were no citations\n",
      "[NbConvertApp] PDF successfully created\n",
      "[NbConvertApp] Writing 60978 bytes to IPYNB_presentations/../PDFs_presentations/Automated_Data_Processing_Yeriko_Vargas.pdf\n",
      "[NbConvertApp] Converting notebook IPYNB_presentations/Receipts_Presentation.ipynb to pdf\n",
      "[NbConvertApp] Writing 39835 bytes to notebook.tex\n",
      "[NbConvertApp] Building PDF\n",
      "[NbConvertApp] Running xelatex 3 times: ['xelatex', 'notebook.tex', '-quiet']\n",
      "[NbConvertApp] Running bibtex 1 time: ['bibtex', 'notebook']\n",
      "[NbConvertApp] WARNING | bibtex had problems, most likely because there were no citations\n",
      "[NbConvertApp] PDF successfully created\n",
      "[NbConvertApp] Writing 53097 bytes to IPYNB_presentations/../PDFs_presentations/Receipts_Presentation.pdf\n",
      "[NbConvertApp] Converting notebook IPYNB_presentations/VIDEO EDITING PRESENTATION.ipynb to pdf\n",
      "[NbConvertApp] Writing 19600 bytes to notebook.tex\n",
      "[NbConvertApp] Building PDF\n",
      "[NbConvertApp] Running xelatex 3 times: ['xelatex', 'notebook.tex', '-quiet']\n",
      "[NbConvertApp] Running bibtex 1 time: ['bibtex', 'notebook']\n",
      "[NbConvertApp] WARNING | bibtex had problems, most likely because there were no citations\n",
      "[NbConvertApp] PDF successfully created\n",
      "[NbConvertApp] Writing 8858 bytes to IPYNB_presentations/../PDFs_presentations/VIDEO EDITING PRESENTATION.pdf\n",
      "[NbConvertApp] Converting notebook IPYNB_presentations/None.ipynb to pdf\n",
      "[NbConvertApp] Writing 19578 bytes to notebook.tex\n",
      "[NbConvertApp] Building PDF\n",
      "[NbConvertApp] Running xelatex 3 times: ['xelatex', 'notebook.tex', '-quiet']\n",
      "[NbConvertApp] Running bibtex 1 time: ['bibtex', 'notebook']\n",
      "[NbConvertApp] WARNING | bibtex had problems, most likely because there were no citations\n",
      "[NbConvertApp] PDF successfully created\n",
      "[NbConvertApp] Writing 7800 bytes to IPYNB_presentations/../PDFs_presentations/None.pdf\n",
      "[NbConvertApp] Converting notebook IPYNB_presentations/Automated Virtual Assistant for Research and Data Management by Yeriko Vargas.ipynb to pdf\n",
      "[NbConvertApp] Writing 31322 bytes to notebook.tex\n",
      "[NbConvertApp] Building PDF\n",
      "[NbConvertApp] Running xelatex 3 times: ['xelatex', 'notebook.tex', '-quiet']\n",
      "[NbConvertApp] Running bibtex 1 time: ['bibtex', 'notebook']\n",
      "[NbConvertApp] WARNING | bibtex had problems, most likely because there were no citations\n",
      "[NbConvertApp] PDF successfully created\n",
      "[NbConvertApp] Writing 47969 bytes to IPYNB_presentations/../PDFs_presentations/Automated Virtual Assistant for Research and Data Management by Yeriko Vargas.pdf\n",
      "[NbConvertApp] Converting notebook IPYNB_presentations/Automated Text Extraction and Data Analytics Assistant - by Yeriko Vargas.ipynb to pdf\n",
      "[NbConvertApp] Writing 31277 bytes to notebook.tex\n",
      "[NbConvertApp] Building PDF\n",
      "[NbConvertApp] Running xelatex 3 times: ['xelatex', 'notebook.tex', '-quiet']\n",
      "[NbConvertApp] Running bibtex 1 time: ['bibtex', 'notebook']\n",
      "[NbConvertApp] WARNING | bibtex had problems, most likely because there were no citations\n",
      "[NbConvertApp] PDF successfully created\n",
      "[NbConvertApp] Writing 48425 bytes to IPYNB_presentations/../PDFs_presentations/Automated Text Extraction and Data Analytics Assistant - by Yeriko Vargas.pdf\n",
      "[NbConvertApp] Converting notebook IPYNB_presentations/DL_AI_Classify_Sentences_NLP_Presentation.ipynb to pdf\n",
      "[NbConvertApp] Writing 27967 bytes to notebook.tex\n",
      "[NbConvertApp] Building PDF\n",
      "[NbConvertApp] Running xelatex 3 times: ['xelatex', 'notebook.tex', '-quiet']\n",
      "[NbConvertApp] Running bibtex 1 time: ['bibtex', 'notebook']\n",
      "[NbConvertApp] WARNING | bibtex had problems, most likely because there were no citations\n",
      "[NbConvertApp] PDF successfully created\n",
      "[NbConvertApp] Writing 38057 bytes to IPYNB_presentations/../PDFs_presentations/DL_AI_Classify_Sentences_NLP_Presentation.pdf\n",
      "[NbConvertApp] Converting notebook IPYNB_presentations/OCR_Presentation.ipynb to pdf\n",
      "[NbConvertApp] Writing 30401 bytes to notebook.tex\n",
      "[NbConvertApp] Building PDF\n",
      "[NbConvertApp] Running xelatex 3 times: ['xelatex', 'notebook.tex', '-quiet']\n",
      "[NbConvertApp] Running bibtex 1 time: ['bibtex', 'notebook']\n",
      "[NbConvertApp] WARNING | bibtex had problems, most likely because there were no citations\n",
      "[NbConvertApp] PDF successfully created\n",
      "[NbConvertApp] Writing 40614 bytes to IPYNB_presentations/../PDFs_presentations/OCR_Presentation.pdf\n"
     ]
    }
   ],
   "source": [
    "import os\n",
    "import subprocess\n",
    "\n",
    "def convert_ipynb_to_pdf(ipynb_path, output_path):\n",
    "    \"\"\"\n",
    "    Converts a Jupyter Notebook file to PDF.\n",
    "\n",
    "    Parameters:\n",
    "        ipynb_path (str): Path to the Jupyter Notebook file. # ^^^ path ^^^\n",
    "        output_path (str): Path where the output PDF will be saved. # ^^^ path ^^^\n",
    "    \"\"\"\n",
    "    # Build the nbconvert command\n",
    "    command = [\n",
    "        \"jupyter\",\n",
    "        \"nbconvert\",\n",
    "        \"--to=pdf\",\n",
    "        ipynb_path,\n",
    "        \"--output\",\n",
    "        output_path\n",
    "    ]\n",
    "    \n",
    "    # Run the command\n",
    "    subprocess.run(command)\n",
    "\n",
    "# Directory containing the .ipynb files\n",
    "source_folder = \"IPYNB_presentations\" # ^^^ path ^^^\n",
    "\n",
    "# Directory to store the converted .pdf files\n",
    "output_folder = \"../PDFs_presentations\"  # ^^^ path ^^^\n",
    "\n",
    "# Create the output folder if it doesn't exist\n",
    "if not os.path.exists(output_folder):\n",
    "    os.makedirs(output_folder)\n",
    "\n",
    "# Iterate through all files in the source folder\n",
    "for filename in os.listdir(source_folder):\n",
    "    if filename.endswith(\".ipynb\"):\n",
    "        # Construct full path of files\n",
    "        ipynb_file_path = os.path.join(source_folder, filename) # ^^^ path ^^^\n",
    "        \n",
    "        # Construct output PDF file name based on the original file name\n",
    "        pdf_file_name = os.path.splitext(filename)[0] + '.pdf'\n",
    "        \n",
    "        # Construct full output path for PDF\n",
    "        pdf_output_path = os.path.join(output_folder, pdf_file_name)  # ^^^ path ^^^\n",
    "\n",
    "        # Call the function to convert notebook to PDF\n",
    "        convert_ipynb_to_pdf(ipynb_file_path, pdf_output_path)\n"
   ]
  },
  {
   "cell_type": "code",
   "execution_count": 5,
   "id": "9b5bacee",
   "metadata": {},
   "outputs": [
    {
     "data": {
      "text/plain": [
       "'IPYNB_presentations/OCR_Presentation.ipynb'"
      ]
     },
     "execution_count": 5,
     "metadata": {},
     "output_type": "execute_result"
    }
   ],
   "source": [
    "ipynb_file_path"
   ]
  },
  {
   "cell_type": "code",
   "execution_count": 6,
   "id": "8c3a8388",
   "metadata": {},
   "outputs": [
    {
     "data": {
      "text/plain": [
       "'OCR_Presentation.pdf'"
      ]
     },
     "execution_count": 6,
     "metadata": {},
     "output_type": "execute_result"
    }
   ],
   "source": [
    "pdf_file_name\n"
   ]
  },
  {
   "cell_type": "code",
   "execution_count": 7,
   "id": "6551d512",
   "metadata": {},
   "outputs": [
    {
     "data": {
      "text/plain": [
       "'PDFs_presentations/OCR_Presentation.pdf'"
      ]
     },
     "execution_count": 7,
     "metadata": {},
     "output_type": "execute_result"
    }
   ],
   "source": [
    "pdf_output_path"
   ]
  },
  {
   "cell_type": "code",
   "execution_count": null,
   "id": "a92adc45",
   "metadata": {},
   "outputs": [],
   "source": []
  }
 ],
 "metadata": {
  "kernelspec": {
   "display_name": "Python 3 (ipykernel)",
   "language": "python",
   "name": "python3"
  },
  "language_info": {
   "codemirror_mode": {
    "name": "ipython",
    "version": 3
   },
   "file_extension": ".py",
   "mimetype": "text/x-python",
   "name": "python",
   "nbconvert_exporter": "python",
   "pygments_lexer": "ipython3",
   "version": "3.10.9"
  }
 },
 "nbformat": 4,
 "nbformat_minor": 5
}
