{
 "cells": [
  {
   "cell_type": "code",
   "execution_count": 8,
   "id": "c2744f4e",
   "metadata": {},
   "outputs": [
    {
     "name": "stdout",
     "output_type": "stream",
     "text": [
      "###################################################################################################### - HI\n",
      "######################################################################################################\n",
      "----------------------------------------------------------------------------------------------------->\n",
      "- PY ---------------------------------------------------------------------------- GLOBAL/_1_paths.py >\n",
      "- MOST COMMON :: <desk_path>:<docs_path>:<down_path>::----------------------------------------------->\n",
      "----------------------------------------------------------------------------------------------------->\n",
      "********************************************  > Directory *\n",
      "\t\t\t\t\t\t\t\t\t -*- [ .ipynb_checkpoints ]\n",
      "\n",
      "********************************************  > .py *\n",
      "\t\t\t\t\t\t\t\t\t -*- [ _0ds_fn_1_get_ipynb_file_names.py ]\n",
      "exec(open(\"{direc}/_0ds_fn_1_get_ipynb_file_names.py\", encoding=\"utf-8\").read())\n",
      "\t\t\t\t\t\t\t\t\t -*- [ _0ds_fn_2_copy_ipynb_file.py ]\n",
      "exec(open(\"{direc}/_0ds_fn_2_copy_ipynb_file.py\", encoding=\"utf-8\").read())\n",
      "\t\t\t\t\t\t\t\t\t -*- [ _0ds_fn_3_NLP_match_job_desc_and_ref_work.py ]\n",
      "exec(open(\"{direc}/_0ds_fn_3_NLP_match_job_desc_and_ref_work.py\", encoding=\"utf-8\").read())\n",
      "\t\t\t\t\t\t\t\t\t -*- [ _0ds_fn_4_get_description_to_modify_in_ref_work.py ]\n",
      "exec(open(\"{direc}/_0ds_fn_4_get_description_to_modify_in_ref_work.py\", encoding=\"utf-8\").read())\n",
      "\t\t\t\t\t\t\t\t\t -*- [ _0ds_fn_5_get_title_of_new_work_ref.py ]\n",
      "exec(open(\"{direc}/_0ds_fn_5_get_title_of_new_work_ref.py\", encoding=\"utf-8\").read())\n",
      "\t\t\t\t\t\t\t\t\t -*- [ _0ds_statements_1_upwork_application_statement.py ]\n",
      "exec(open(\"{direc}/_0ds_statements_1_upwork_application_statement.py\", encoding=\"utf-8\").read())\n",
      "\n",
      "********************************************  > .ipynb *\n",
      "\t\t\t\t\t\t\t\t\t -*- [ functions.ipynb ]\n",
      "\n",
      "----------------------------------------------------------------------------------------------------->\n",
      "######################################################################################################\n",
      "######################################################################################################\n",
      "*** ATTN * curr_direc = /Users/yerik/_apple_source/PY/JUPY/py0ds/CONTENT/functions *\n",
      "----------------------------------------------------------------------------------------------------->\n",
      "READ temp ::: exec(open(f\"{direc}/_{py_lib}_topic_sub_#_spec_part.py\",encoding=\"utf-8\").read()) \n",
      "WRITE temp ::: %%writefile _0ds_topic_#_spec_part.py                             \n",
      "----------------------------------------------------------------------------------------------------->\n",
      "\n",
      "-1) py RUN ::: \n",
      "\n",
      "%%writefile RUN.py \n",
      "exec(open(f\"{direc}/*latest*.py\", encoding=\"utf-8\").read()\n",
      "\n",
      "-2) py LIB ::: \n",
      "\n",
      "%%writefile /Users/yerik/_apple_source/PY/libs/_0ds/_0ds_*descriptive_program_name*.py \n",
      "direc = \"/Users/yerik/_apple_source/PY/JUPY/py0ds/CONTENT/functions\"\n",
      "exec(open(f\"{direc}/RUN.py\", encoding=\"utf-8\").read()# This Program will be added to ALL_LIBS to execute::\n",
      "----------------------------------------------------------------------------------------------------->\n",
      "######################################################################################################\n",
      "###################################################################################################### - BYE\n"
     ]
    }
   ],
   "source": [
    "#import sys;import io ; original_stdout = sys.stdout ; sys.stdout = io.StringIO()          # Suppress this output\n",
    "exec(open(f\"/Users/yerik/_apple_source/PY/GLOBAL/_1_paths.py\", encoding=\"utf-8\").read())  # GLOBAL\n",
    "direc = curr_direc ;# sys.stdout = original_stdout     "
   ]
  },
  {
   "cell_type": "code",
   "execution_count": null,
   "id": "459185ad",
   "metadata": {},
   "outputs": [],
   "source": []
  }
 ],
 "metadata": {
  "kernelspec": {
   "display_name": "Python 3 (ipykernel)",
   "language": "python",
   "name": "python3"
  },
  "language_info": {
   "codemirror_mode": {
    "name": "ipython",
    "version": 3
   },
   "file_extension": ".py",
   "mimetype": "text/x-python",
   "name": "python",
   "nbconvert_exporter": "python",
   "pygments_lexer": "ipython3",
   "version": "3.10.9"
  }
 },
 "nbformat": 4,
 "nbformat_minor": 5
}
