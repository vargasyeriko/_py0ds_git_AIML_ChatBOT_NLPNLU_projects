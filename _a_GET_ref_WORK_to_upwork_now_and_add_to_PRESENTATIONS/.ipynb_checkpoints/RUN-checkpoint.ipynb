{
 "cells": [
  {
   "cell_type": "code",
   "execution_count": 1,
   "id": "b1fbdaf3",
   "metadata": {
    "scrolled": true
   },
   "outputs": [
    {
     "name": "stdout",
     "output_type": "stream",
     "text": [
      "Instert JOB Description ::: \n",
      " asistant\n",
      "LIST OF DOCS IN PRESENTATIONS ::  ['OCR_Based_Data_Management_Virtual_Assistant.ipynb', 'generate_sentences_to_text_Presentation.ipynb', 'Automated_Data_Processing_Yeriko_Vargas.ipynb', 'Receipts_Presentation.ipynb', 'VIDEO EDITING PRESENTATION.ipynb', 'None.ipynb', 'Automated Virtual Assistant for Research and Data Management by Yeriko Vargas.ipynb', 'DL_AI_Classify_Sentences_NLP_Presentation.ipynb', 'OCR_Presentation.ipynb']\n",
      "\n",
      " ATTN !! NLP -> The best matching notebook is: OCR_Based_Data_Management_Virtual_Assistant.ipynb\n",
      "\n",
      " OCR_Based_Data_Management_Virtual_Assistant.ipynb :: has been copied here :: \n",
      " -> /Users/yerik/_apple_source/PY/JUPY/py0ds/CONTENT\n",
      "\n",
      " with this new name \n",
      " -> _a_copy_of_OCR_Based_Data_Management_Virtual_Assistant.ipynb ... & ...\n",
      " \n",
      " Transformed it to PDF as :::\n",
      " -> _a_copy_of_OCR_Based_Data_Management_Virtual_Assistant.pdf\n",
      "\n",
      " JOB DESC & WORK REF to MODIFY <<< ::: <<< COPIED to CLIPBOARD as follows ::: >>> ::: >>> ::: >>>\n",
      "_____________________________________________________________________________________________________start \n",
      "_____________________________________________________________________________________________________ \n",
      "\n",
      " !!! !!! HEY YOU !!! PLEASE GO AHEAD AND USE THIS REF WORK enclosed by \n",
      "                <<< ref_work >>> and match it with job description enclosed by\n",
      "                <(( job_desc ))> and give me a new angle to word my ref work to make it more relatable \n",
      "                to job_desc thus give me new intro starting by a new relatable title followed by Yeriko Vargas\n",
      "                :::\n",
      "                \n",
      "<<< _a_copy_of_OCR_Based_Data_Management_Virtual_Assistant September 20, 2023 0.1 Automated T ext Extraction and Data Analytics Assistant - by Y eriko V ar- gas 0.1.1 Summary The project I developed focuses on automating the process of textual data extraction from images, utilizing Optical Character Recognition (OCR). This technology streamlines data management and documentation tasks, enabling seamless data conversion and analytics. 0.1.2 Problem It Addresses The primary challenge it resolves is providing an automated, accurate solution for converting receipt images into a digital, machine-readable format. This is particularly beneficial for tasks that require merging data from various documents into a single, cohesive report. 0.1.3 How It F unctions 1. Preprocessing and Communication: Initially , the image goes through a preprocessing stage using OpenCV, analogous to conducting comprehensive research to collect relevant data. 2. Data Extraction: T esseract OCR engine is then used for text extraction, similar to extract- ing valuable insights using data mining techniques. 3. Data Management: Extracted text can be easily converted and stored in data frames or other formats, showcasing proficiency in Excel-like data management tasks. 0.1.4 Diagram 0.2 IMAGE PREPROCESSING and OCR test [ ]: # Diagram # +---------------------+ # | Image Preprocessing| # +---------------------+ # | # V # +---------------------+ # | Text Extraction | # +---------------------+ 1# Libraries import cv2 import pytesseract from PIL import Image # Function to preprocess image def preprocess_image (image_path): img = cv2 .imread(image_path) img = cv2 .resize(img, None , fx =1.2 , fy =1.2 , interpolation =cv2 .INTER_CUBIC) img = cv2 .cvtColor(img, cv2 .COLOR_BGR2GRAY) img = cv2 .adaptiveThreshold(cv2 .GaussianBlur(img, ( 5, 5), 0), 255 , cv2 .ADAPTIVE_THRESH_GAUSSIAN_C, cv2 . ↪THRESH_BINARY, 31, 2) return img # Function to perform OCR def perform_ocr (img): img_new = Image .open(img) return pytesseract .image_to_string(img_new, lang ='eng ') # Main Function if __name__ == '__main__ ': pytesseract .pytesseract .tesseract_cmd = 'C:/Program Files/Tesseract-OCR/ ↪tesseract/tesseract.exe ' img = preprocess_image( 'rece.jpg ') cv2 .imwrite( 'preprocessed_rece.jpg ', img) text = perform_ocr( 'preprocessed_rece.jpg ') print (text) 1 OCR_Receipt_Data_Extractor Image Preprocessing: OpenCV is used to preprocess the receipt images, making them more suitable for OCR. T ext Extraction: T esseract OCR engine is used to extract text from the preprocessed images. Data Storage: The extracted text can be stored in a DataF rame or a text file for future use [ ]: # Diagram # +---------------------+ # | Image Preprocessing| # +---------------------+ # | # V # +---------------------+ # | Text Extraction | 2# +---------------------+ # >>>\n",
      "                \n",
      "                :::\n",
      "                \n",
      "<(( asistant ))>\n",
      "                \n",
      "                PLEASE GIVE ME THE DESCRIPTION and summary in a code like square so I can just \n",
      "                do copy code as jupy markdown, for the new markdown rmemeber to set the first \n",
      "                markdown # most relatable title for this reference work by Yeriko Vargas\n",
      "\n",
      "_____________________________________________________________________________________________________ \n",
      "_____________________________________________________________________________________________________end \n",
      "_________________________________STEP_1_C_GPT_&_PASTE___________________________________________________ \n",
      " RSP 1) ::: Did you GET new REF WORK DESCRIPTION *y* to open and modify ?? <y/n> \ty\n",
      "\n",
      "\n",
      " jupyter notebook /Users/yerik/_apple_source/PY/JUPY/py0ds/CONTENT/_a_copy_of_OCR_Based_Data_Management_Virtual_Assistant.ipynb ---> COPIED TO CLIPBOARD\n",
      "tab 1 of window id 2147\n",
      " \n",
      "RSP 2) ::: Did you Modified it *y* to get instant TITLE else write CUSTOM ??? <y/n> \ty\n",
      "\n",
      " new_name_upwork  =  The TITLE extracted from the notebook is:\n",
      " ->  Automated Text Extraction and Data Analytics Assistant - by Yeriko Vargas\n",
      "\n",
      " _a_copy_of_OCR_Based_Data_Management_Virtual_Assistant.ipynb :: ATTN !! after being modified has been copied here as :: \n",
      " -> JUPY_PRESENTATIONS/Automated Text Extraction and Data Analytics Assistant - by Yeriko Vargas.ipynb \n",
      "Successfully deleted _a_copy_of_OCR_Based_Data_Management_Virtual_Assistant.ipynb\n",
      "Successfully deleted _a_copy_of_OCR_Based_Data_Management_Virtual_Assistant.pdf\n"
     ]
    }
   ],
   "source": [
    "exec(open(f\"_1ds_cycle_NLP_match_ref_work_export_modify.py\", encoding=\"utf-8\").read()) "
   ]
  },
  {
   "cell_type": "code",
   "execution_count": null,
   "id": "6a28ebee",
   "metadata": {},
   "outputs": [],
   "source": [
    "# erase 2 copy of file reference \n"
   ]
  },
  {
   "cell_type": "code",
   "execution_count": 2,
   "id": "89208347",
   "metadata": {},
   "outputs": [
    {
     "name": "stdout",
     "output_type": "stream",
     "text": [
      "-1) FIRST CREATE YOUR RUN.py FILE by runpy()\n",
      " \n",
      "-2) py LIB ::: \n",
      "\n",
      "%%writefile /Users/yerik/_apple_source/PY/libs/_0ds/_0ds_#_*******.py\n",
      "exec(open(f\"/Users/yerik/_apple_source/PY/GLOBAL/_1_paths.py\",encoding=\"utf-8\").read()) #paths\n",
      "program_folder_name = \"CONTENT\" # VERIFY NAME OF THE FOLDER\n",
      "valid =\"JUPY/py0ds\" ; #valid =\"functions/_0ds\"\n",
      "alpha_beta = valid \n",
      "input(f''' CNTD ...\n",
      "*\n",
      "*\n",
      "*\n",
      "*\n",
      "*\n",
      "*\n",
      "*\n",
      "*\n",
      "*\n",
      "*\n",
      "*\n",
      "*\n",
      "*\n",
      "*\n",
      "*\n",
      "*\n",
      "*\n",
      "*\n",
      "*\n",
      "*\n",
      "*\t > E-START < \t {alpha_beta}-{program_folder_name}''')\n",
      "direc= f\"{path_py}/{alpha_beta}/{program_folder_name}\" \n",
      "exec(open(f\"{direc}/run.py\", encoding=\"utf-8\").read())# This Program will be added to ALL_LIBS to execute::\n"
     ]
    }
   ],
   "source": [
    "game_plan()"
   ]
  },
  {
   "cell_type": "code",
   "execution_count": null,
   "id": "93be6574",
   "metadata": {},
   "outputs": [],
   "source": []
  },
  {
   "cell_type": "code",
   "execution_count": null,
   "id": "b9faa114",
   "metadata": {},
   "outputs": [],
   "source": []
  },
  {
   "cell_type": "code",
   "execution_count": null,
   "id": "4c982126",
   "metadata": {},
   "outputs": [],
   "source": []
  },
  {
   "cell_type": "code",
   "execution_count": null,
   "id": "33fed388",
   "metadata": {},
   "outputs": [],
   "source": []
  }
 ],
 "metadata": {
  "kernelspec": {
   "display_name": "Python 3 (ipykernel)",
   "language": "python",
   "name": "python3"
  },
  "language_info": {
   "codemirror_mode": {
    "name": "ipython",
    "version": 3
   },
   "file_extension": ".py",
   "mimetype": "text/x-python",
   "name": "python",
   "nbconvert_exporter": "python",
   "pygments_lexer": "ipython3",
   "version": "3.10.9"
  }
 },
 "nbformat": 4,
 "nbformat_minor": 5
}
