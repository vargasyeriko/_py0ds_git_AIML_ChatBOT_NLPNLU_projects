{
 "cells": [
  {
   "cell_type": "code",
   "execution_count": 1,
   "id": "77fa2b47-5c68-4fa6-b703-e0d4f84976ab",
   "metadata": {},
   "outputs": [],
   "source": [
    "import pandas as pd\n",
    "import numpy as np\n",
    "import joblib\n",
    "from tensorflow.keras.models import load_model\n",
    "\n",
    "# Load the model\n",
    "loaded_model = load_model('my_model.h5')\n",
    "\n",
    "# Load the model and scaler\n",
    "model = load_model('my_model.h5')\n",
    "scaler = joblib.load('scaler.joblib')\n",
    "\n",
    "\n",
    "def get_input_and_predict(model, scaler, feature_names):\n",
    "    # Define the region options\n",
    "    regions = ['North', 'South', 'East', 'West']\n",
    "    \n",
    "    # Ask the user for the region selection\n",
    "    print(\"Please select the region by entering the corresponding number:\")\n",
    "    for i, region in enumerate(regions, 1):\n",
    "        print(f\"{i}. {region}\")\n",
    "    region_input = int(input(\"Enter number: \")) - 1  # -1 to account for zero indexing\n",
    "    region_one_hot = np.zeros((1, len(regions)))  # Reshape to 2D array\n",
    "    region_one_hot[0, region_input] = 1\n",
    "\n",
    "    # Ask the user for the numerical values\n",
    "    month = float(input(\"Enter the month (1-12): \"))\n",
    "    marketing_spend = float(input(\"Enter the marketing spend: \"))\n",
    "    economic_index = float(input(\"Enter the economic index: \"))\n",
    "    competitor_activity = float(input(\"Enter the competitor activity score (0-10): \"))\n",
    "    historical_sales = float(input(\"Enter the historical sales: \"))\n",
    "\n",
    "    # Create a DataFrame with the correct feature names for scaling\n",
    "    numerical_inputs_df = pd.DataFrame([[month, marketing_spend, economic_index, competitor_activity, historical_sales]],\n",
    "                                       columns=feature_names)\n",
    "\n",
    "    # Normalize the numerical inputs\n",
    "    numerical_inputs_normalized = scaler.transform(numerical_inputs_df)\n",
    "\n",
    "    # Combine the one-hot encoded region with the normalized numerical features\n",
    "    final_input = np.hstack((region_one_hot, numerical_inputs_normalized))\n",
    "\n",
    "    # Make a prediction\n",
    "    predicted_sales = model.predict(final_input)\n",
    "\n",
    "    return predicted_sales\n",
    "    \n",
    "# When calling the function, pass in the feature names used during scaling\n",
    "feature_names = ['Month', 'Marketing Spend', 'Economic Index', 'Competitor Activity', 'Historical Sales']\n",
    "prediction = get_input_and_predict(model, scaler, feature_names)\n",
    "print(f\"The predicted sales are: {prediction[0][0]}\")"
   ]
  },
  {
   "cell_type": "code",
   "execution_count": 4,
   "id": "817da581-ea17-4ee5-818d-a0c5ad1d8f4b",
   "metadata": {},
   "outputs": [
    {
     "data": {
      "text/plain": [
       "array([[289.49487]], dtype=float32)"
      ]
     },
     "execution_count": 4,
     "metadata": {},
     "output_type": "execute_result"
    }
   ],
   "source": [
    "prediction"
   ]
  },
  {
   "cell_type": "code",
   "execution_count": null,
   "id": "ab384c62-06b0-4197-a7fa-165cd5882f7c",
   "metadata": {},
   "outputs": [],
   "source": []
  }
 ],
 "metadata": {
  "kernelspec": {
   "display_name": "Python 3 (ipykernel)",
   "language": "python",
   "name": "python3"
  },
  "language_info": {
   "codemirror_mode": {
    "name": "ipython",
    "version": 3
   },
   "file_extension": ".py",
   "mimetype": "text/x-python",
   "name": "python",
   "nbconvert_exporter": "python",
   "pygments_lexer": "ipython3",
   "version": "3.8.18"
  }
 },
 "nbformat": 4,
 "nbformat_minor": 5
}
