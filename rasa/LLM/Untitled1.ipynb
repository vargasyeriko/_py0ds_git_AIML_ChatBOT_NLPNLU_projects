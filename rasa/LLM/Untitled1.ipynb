{
 "cells": [
  {
   "cell_type": "code",
   "execution_count": 3,
   "id": "3f90f56e-6be6-4a3d-be99-f78f930bc770",
   "metadata": {
    "jp-MarkdownHeadingCollapsed": true
   },
   "outputs": [
    {
     "name": "stdout",
     "output_type": "stream",
     "text": [
      "Please select the region by entering the corresponding number:\n",
      "1. North\n",
      "2. South\n",
      "3. East\n",
      "4. West\n"
     ]
    },
    {
     "name": "stdin",
     "output_type": "stream",
     "text": [
      "Enter number:  1\n",
      "Enter the month (1-12):  5\n",
      "Enter the marketing spend:  7\n",
      "Enter the economic index:  \n"
     ]
    },
    {
     "ename": "ValueError",
     "evalue": "could not convert string to float: ''",
     "output_type": "error",
     "traceback": [
      "\u001b[0;31m---------------------------------------------------------------------------\u001b[0m",
      "\u001b[0;31mValueError\u001b[0m                                Traceback (most recent call last)",
      "Cell \u001b[0;32mIn[3], line 50\u001b[0m\n\u001b[1;32m     48\u001b[0m \u001b[38;5;66;03m# When calling the function, pass in the feature names used during scaling\u001b[39;00m\n\u001b[1;32m     49\u001b[0m feature_names \u001b[38;5;241m=\u001b[39m [\u001b[38;5;124m'\u001b[39m\u001b[38;5;124mMonth\u001b[39m\u001b[38;5;124m'\u001b[39m, \u001b[38;5;124m'\u001b[39m\u001b[38;5;124mMarketing Spend\u001b[39m\u001b[38;5;124m'\u001b[39m, \u001b[38;5;124m'\u001b[39m\u001b[38;5;124mEconomic Index\u001b[39m\u001b[38;5;124m'\u001b[39m, \u001b[38;5;124m'\u001b[39m\u001b[38;5;124mCompetitor Activity\u001b[39m\u001b[38;5;124m'\u001b[39m, \u001b[38;5;124m'\u001b[39m\u001b[38;5;124mHistorical Sales\u001b[39m\u001b[38;5;124m'\u001b[39m]\n\u001b[0;32m---> 50\u001b[0m prediction \u001b[38;5;241m=\u001b[39m \u001b[43mget_input_and_predict\u001b[49m\u001b[43m(\u001b[49m\u001b[43mmodel\u001b[49m\u001b[43m,\u001b[49m\u001b[43m \u001b[49m\u001b[43mscaler\u001b[49m\u001b[43m,\u001b[49m\u001b[43m \u001b[49m\u001b[43mfeature_names\u001b[49m\u001b[43m)\u001b[49m\n\u001b[1;32m     51\u001b[0m \u001b[38;5;28mprint\u001b[39m(\u001b[38;5;124mf\u001b[39m\u001b[38;5;124m\"\u001b[39m\u001b[38;5;124mThe predicted sales are: \u001b[39m\u001b[38;5;132;01m{\u001b[39;00mprediction[\u001b[38;5;241m0\u001b[39m][\u001b[38;5;241m0\u001b[39m]\u001b[38;5;132;01m}\u001b[39;00m\u001b[38;5;124m\"\u001b[39m)\n",
      "Cell \u001b[0;32mIn[3], line 29\u001b[0m, in \u001b[0;36mget_input_and_predict\u001b[0;34m(model, scaler, feature_names)\u001b[0m\n\u001b[1;32m     27\u001b[0m month \u001b[38;5;241m=\u001b[39m \u001b[38;5;28mfloat\u001b[39m(\u001b[38;5;28minput\u001b[39m(\u001b[38;5;124m\"\u001b[39m\u001b[38;5;124mEnter the month (1-12): \u001b[39m\u001b[38;5;124m\"\u001b[39m))\n\u001b[1;32m     28\u001b[0m marketing_spend \u001b[38;5;241m=\u001b[39m \u001b[38;5;28mfloat\u001b[39m(\u001b[38;5;28minput\u001b[39m(\u001b[38;5;124m\"\u001b[39m\u001b[38;5;124mEnter the marketing spend: \u001b[39m\u001b[38;5;124m\"\u001b[39m))\n\u001b[0;32m---> 29\u001b[0m economic_index \u001b[38;5;241m=\u001b[39m \u001b[38;5;28;43mfloat\u001b[39;49m\u001b[43m(\u001b[49m\u001b[38;5;28;43minput\u001b[39;49m\u001b[43m(\u001b[49m\u001b[38;5;124;43m\"\u001b[39;49m\u001b[38;5;124;43mEnter the economic index: \u001b[39;49m\u001b[38;5;124;43m\"\u001b[39;49m\u001b[43m)\u001b[49m\u001b[43m)\u001b[49m\n\u001b[1;32m     30\u001b[0m competitor_activity \u001b[38;5;241m=\u001b[39m \u001b[38;5;28mfloat\u001b[39m(\u001b[38;5;28minput\u001b[39m(\u001b[38;5;124m\"\u001b[39m\u001b[38;5;124mEnter the competitor activity score (0-10): \u001b[39m\u001b[38;5;124m\"\u001b[39m))\n\u001b[1;32m     31\u001b[0m historical_sales \u001b[38;5;241m=\u001b[39m \u001b[38;5;28mfloat\u001b[39m(\u001b[38;5;28minput\u001b[39m(\u001b[38;5;124m\"\u001b[39m\u001b[38;5;124mEnter the historical sales: \u001b[39m\u001b[38;5;124m\"\u001b[39m))\n",
      "\u001b[0;31mValueError\u001b[0m: could not convert string to float: ''"
     ]
    }
   ],
   "source": [
    "# import pandas as pd\n",
    "import numpy as np\n",
    "import joblib\n",
    "from tensorflow.keras.models import load_model\n",
    "\n",
    "# Load the model\n",
    "loaded_model = load_model('my_model.h5')\n",
    "\n",
    "# Load the model and scaler\n",
    "model = load_model('my_model.h5')\n",
    "scaler = joblib.load('scaler.joblib')\n",
    "\n",
    "\n",
    "def get_input_and_predict(model, scaler, feature_names):\n",
    "    # Define the region options\n",
    "    regions = ['North', 'South', 'East', 'West']\n",
    "    \n",
    "    # Ask the user for the region selection\n",
    "    print(\"Please select the region by entering the corresponding number:\")\n",
    "    for i, region in enumerate(regions, 1):\n",
    "        print(f\"{i}. {region}\")\n",
    "    region_input = int(input(\"Enter number: \")) - 1  # -1 to account for zero indexing\n",
    "    region_one_hot = np.zeros((1, len(regions)))  # Reshape to 2D array\n",
    "    region_one_hot[0, region_input] = 1\n",
    "\n",
    "    # Ask the user for the numerical values\n",
    "    month = float(input(\"Enter the month (1-12): \"))\n",
    "    marketing_spend = float(input(\"Enter the marketing spend: \"))\n",
    "    economic_index = float(input(\"Enter the economic index: \"))\n",
    "    competitor_activity = float(input(\"Enter the competitor activity score (0-10): \"))\n",
    "    historical_sales = float(input(\"Enter the historical sales: \"))\n",
    "\n",
    "    # Create a DataFrame with the correct feature names for scaling\n",
    "    numerical_inputs_df = pd.DataFrame([[month, marketing_spend, economic_index, competitor_activity, historical_sales]],\n",
    "                                       columns=feature_names)\n",
    "\n",
    "    # Normalize the numerical inputs\n",
    "    numerical_inputs_normalized = scaler.transform(numerical_inputs_df)\n",
    "\n",
    "    # Combine the one-hot encoded region with the normalized numerical features\n",
    "    final_input = np.hstack((region_one_hot, numerical_inputs_normalized))\n",
    "\n",
    "    # Make a prediction\n",
    "    predicted_sales = model.predict(final_input)\n",
    "\n",
    "    return predicted_sales\n",
    "    \n",
    "# When calling the function, pass in the feature names used during scaling\n",
    "feature_names = ['Month', 'Marketing Spend', 'Economic Index', 'Competitor Activity', 'Historical Sales']\n",
    "prediction = get_input_and_predict(model, scaler, feature_names)\n",
    "print(f\"The predicted sales are: {prediction[0][0]}\")"
   ]
  },
  {
   "cell_type": "code",
   "execution_count": 4,
   "id": "5ed53a01-2183-444d-a8e5-eebc59427de7",
   "metadata": {},
   "outputs": [
    {
     "name": "stdout",
     "output_type": "stream",
     "text": [
      "Overwriting flask_trial.py\n"
     ]
    }
   ],
   "source": [
    "%%writefile flask_trial.py\n",
    "\n",
    "from flask import Flask, request, jsonify\n",
    "from tensorflow.keras.models import load_model\n",
    "import joblib\n",
    "import numpy as np\n",
    "import pandas as pd\n",
    "\n",
    "app = Flask(__name__)\n",
    "\n",
    "# Load the model and scaler at the start to avoid loading them multiple times\n",
    "model = load_model('my_model.h5')\n",
    "scaler = joblib.load('scaler.joblib')\n",
    "\n",
    "# This endpoint processes requests and returns predictions\n",
    "@app.route('/predict', methods=['POST'])\n",
    "def predict():\n",
    "    try:\n",
    "        # Extract JSON data from POST request\n",
    "        data = request.get_json()\n",
    "\n",
    "        # Convert region to one-hot encoding\n",
    "        regions = ['North', 'South', 'East', 'West']\n",
    "        region_input = regions.index(data['region'])  # Get the index of the region\n",
    "        region_one_hot = np.zeros((1, len(regions)))\n",
    "        region_one_hot[0, region_input] = 1\n",
    "\n",
    "        # Collect the rest of the numerical values\n",
    "        numerical_data = np.array([[data['month'], data['marketing_spend'], data['economic_index'],\n",
    "                                    data['competitor_activity'], data['historical_sales']]])\n",
    "\n",
    "        # Create a DataFrame with the correct feature names for scaling\n",
    "        feature_names = ['Month', 'Marketing Spend', 'Economic Index', 'Competitor Activity', 'Historical Sales']\n",
    "        numerical_inputs_df = pd.DataFrame(numerical_data, columns=feature_names)\n",
    "\n",
    "        # Normalize the numerical inputs\n",
    "        numerical_inputs_normalized = scaler.transform(numerical_inputs_df)\n",
    "\n",
    "        # Combine the one-hot encoded region with the normalized numerical features\n",
    "        final_input = np.hstack((region_one_hot, numerical_inputs_normalized))\n",
    "\n",
    "        # Make a prediction\n",
    "        predicted_sales = model.predict(final_input)\n",
    "\n",
    "        # Convert the prediction to a Python float (standard type)\n",
    "        prediction = float(predicted_sales[0][0])\n",
    "\n",
    "        # Return the prediction as a JSON response\n",
    "        return jsonify({'prediction': prediction})\n",
    "\n",
    "    except Exception as e:\n",
    "        # If any error occurs, send an error message\n",
    "        return jsonify({'error': str(e), 'message': 'Error processing request'}), 400\n",
    "\n",
    "# Run the Flask app\n",
    "if __name__ == '__main__':\n",
    "    app.run(debug=True)  # Set debug=False for production mode\n"
   ]
  },
  {
   "cell_type": "code",
   "execution_count": null,
   "id": "fed28f30-c503-4f64-8ded-f14b5d319e86",
   "metadata": {},
   "outputs": [],
   "source": []
  },
  {
   "cell_type": "code",
   "execution_count": null,
   "id": "5a2db93a-9f6e-44d4-aedb-a90b4fa44338",
   "metadata": {},
   "outputs": [],
   "source": []
  },
  {
   "cell_type": "code",
   "execution_count": null,
   "id": "19a53b14-af85-48be-ac2c-e59a98fa6ccb",
   "metadata": {},
   "outputs": [],
   "source": []
  },
  {
   "cell_type": "code",
   "execution_count": null,
   "id": "d4db365a-7649-4c6d-bbd5-c6cf0a51ada8",
   "metadata": {},
   "outputs": [],
   "source": []
  },
  {
   "cell_type": "code",
   "execution_count": 4,
   "id": "817da581-ea17-4ee5-818d-a0c5ad1d8f4b",
   "metadata": {},
   "outputs": [
    {
     "data": {
      "text/plain": [
       "array([[289.49487]], dtype=float32)"
      ]
     },
     "execution_count": 4,
     "metadata": {},
     "output_type": "execute_result"
    }
   ],
   "source": [
    "prediction"
   ]
  },
  {
   "cell_type": "code",
   "execution_count": null,
   "id": "ab384c62-06b0-4197-a7fa-165cd5882f7c",
   "metadata": {},
   "outputs": [],
   "source": []
  }
 ],
 "metadata": {
  "kernelspec": {
   "display_name": "Python 3 (ipykernel)",
   "language": "python",
   "name": "python3"
  },
  "language_info": {
   "codemirror_mode": {
    "name": "ipython",
    "version": 3
   },
   "file_extension": ".py",
   "mimetype": "text/x-python",
   "name": "python",
   "nbconvert_exporter": "python",
   "pygments_lexer": "ipython3",
   "version": "3.8.18"
  }
 },
 "nbformat": 4,
 "nbformat_minor": 5
}
