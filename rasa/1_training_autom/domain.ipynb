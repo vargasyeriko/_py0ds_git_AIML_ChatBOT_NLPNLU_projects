{
 "cells": [
  {
   "cell_type": "code",
   "execution_count": 1,
   "id": "d8193e71-f688-4243-af6b-8ef5d91c3509",
   "metadata": {},
   "outputs": [],
   "source": [
    "import pandas as pd\n",
    "import yaml\n",
    "from pathlib import Path\n",
    "\n",
    "# Define the data from the provided DataFrame\n",
    "rsp_data = {\n",
    "    \"Intent\": [\"a_ask_about_qualifications\", \"inquire_about_charter_fee_inclusions\",\n",
    "               \"ask_about_payment_and_cancellation\", \"ask_about_security_deposit\",\n",
    "               \"inquire_about_tenant_obligations\"],\n",
    "    \"Response\": [\n",
    "        \"Typically, a valid boating license is required for yacht charter, or you can opt to hire a skilled skipper.\",\n",
    "        \"The charter fee includes the yacht, its equipment, and insurance. Costs like fuel, port fees, and provisioning are extra.\",\n",
    "        \"Payments are structured as an initial deposit followed by a final payment. The cancellation policy includes graduated penalties as the charter date approaches.\",\n",
    "        \"A security deposit is required to cover any potential damages or unforeseen expenses, which is refundable after post-charter inspection.\",\n",
    "        \"As a tenant, you're responsible for the yacht's upkeep during the charter and must return it in the same condition as at the start.\"\n",
    "    ]\n",
    "}\n",
    "\n",
    "# Create a DataFrame from the data\n",
    "rsp_df = pd.DataFrame(rsp_data)\n",
    "\n",
    "# Function to append DataFrame data to the Rasa domain file\n",
    "def append_to_domain(domain_file_path, new_data_df):\n",
    "    # Read the original domain file\n",
    "    with open(domain_file_path, 'r') as file:\n",
    "        domain_data = yaml.safe_load(file)\n",
    "    \n",
    "    # Convert DataFrame to dictionary format for the domain file\n",
    "    for index, row in new_data_df.iterrows():\n",
    "        # Add new intent\n",
    "        domain_data['intents'].append(row['Intent'])\n",
    "        \n",
    "        # Add new responses\n",
    "        response_key = f\"utter_{row['Intent']}\"\n",
    "        domain_data['responses'][response_key] = [{\"text\": row['Response']}]\n",
    "    \n",
    "    # Write back to the domain file\n",
    "    with open(domain_file_path, 'w') as file:\n",
    "        yaml.safe_dump(domain_data, file, sort_keys=False)\n",
    "\n",
    "# Path to your domain file\n",
    "domain_file = \"domain.yml\"\n",
    "\n",
    "# Call the function to append data\n",
    "append_to_domain(domain_file, rsp_df)\n"
   ]
  },
  {
   "cell_type": "code",
   "execution_count": 5,
   "id": "4bfca50e-27a1-4176-8a9e-07acb0b12c99",
   "metadata": {},
   "outputs": [
    {
     "ename": "ModuleNotFoundError",
     "evalue": "No module named 'rasa_sdk'",
     "output_type": "error",
     "traceback": [
      "\u001b[0;31m---------------------------------------------------------------------------\u001b[0m",
      "\u001b[0;31mModuleNotFoundError\u001b[0m                       Traceback (most recent call last)",
      "Cell \u001b[0;32mIn[5], line 2\u001b[0m\n\u001b[1;32m      1\u001b[0m \u001b[38;5;28;01mimport\u001b[39;00m \u001b[38;5;21;01mrandom\u001b[39;00m\n\u001b[0;32m----> 2\u001b[0m \u001b[38;5;28;01mfrom\u001b[39;00m \u001b[38;5;21;01mrasa_sdk\u001b[39;00m \u001b[38;5;28;01mimport\u001b[39;00m Action, Tracker\n\u001b[1;32m      3\u001b[0m \u001b[38;5;28;01mfrom\u001b[39;00m \u001b[38;5;21;01mrasa_sdk\u001b[39;00m\u001b[38;5;21;01m.\u001b[39;00m\u001b[38;5;21;01mexecutor\u001b[39;00m \u001b[38;5;28;01mimport\u001b[39;00m CollectingDispatcher\n\u001b[1;32m      4\u001b[0m \u001b[38;5;28;01mfrom\u001b[39;00m \u001b[38;5;21;01mtyping\u001b[39;00m \u001b[38;5;28;01mimport\u001b[39;00m Any, List, Text, Dict\n",
      "\u001b[0;31mModuleNotFoundError\u001b[0m: No module named 'rasa_sdk'"
     ]
    }
   ],
   "source": [
    "import random\n",
    "from rasa_sdk import Action, Tracker\n",
    "from rasa_sdk.executor import CollectingDispatcher\n",
    "from typing import Any, List, Text, Dict\n"
   ]
  },
  {
   "cell_type": "code",
   "execution_count": null,
   "id": "a9216086-c691-45e2-8e11-120a57cae469",
   "metadata": {},
   "outputs": [],
   "source": []
  }
 ],
 "metadata": {
  "kernelspec": {
   "display_name": "Python 3 (ipykernel)",
   "language": "python",
   "name": "python3"
  },
  "language_info": {
   "codemirror_mode": {
    "name": "ipython",
    "version": 3
   },
   "file_extension": ".py",
   "mimetype": "text/x-python",
   "name": "python",
   "nbconvert_exporter": "python",
   "pygments_lexer": "ipython3",
   "version": "3.12.0"
  }
 },
 "nbformat": 4,
 "nbformat_minor": 5
}
