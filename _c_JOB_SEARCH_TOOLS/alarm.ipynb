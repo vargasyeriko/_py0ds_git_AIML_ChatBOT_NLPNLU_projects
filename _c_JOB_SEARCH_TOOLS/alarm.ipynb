{
 "cells": [
  {
   "cell_type": "code",
   "execution_count": 4,
   "id": "a6f3d0d4",
   "metadata": {},
   "outputs": [
    {
     "name": "stdout",
     "output_type": "stream",
     "text": [
      "Overwriting /Users/yerik/Desktop/timer_now.py\n"
     ]
    }
   ],
   "source": [
    "%%writefile ~/Desktop/timer_now.py\n",
    "\n",
    "import time\n",
    "import os\n",
    "\n",
    "def countdown_timer(minutes, message):\n",
    "    seconds = minutes * 60\n",
    "    print(f\"Timer set for {minutes} minutes.\")\n",
    "    \n",
    "    while seconds > 0:\n",
    "        mins, secs = divmod(seconds, 60)\n",
    "        timeformat = \"{:02d}:{:02d}\".format(mins, secs)\n",
    "        print(timeformat, end='\\r')\n",
    "        time.sleep(1)\n",
    "        seconds -= 1\n",
    "\n",
    "    print(message)\n",
    "    # Play a sound - You may need to change the path to your desired sound file.\n",
    "    sound_file_path = \"alarm.wav\"\n",
    "    os.system(f\"afplay {sound_file_path}\")  # For macOS\n",
    "\n",
    "def set_up_multiple_timers(timer_data):\n",
    "    for minutes, message in timer_data:\n",
    "        countdown_timer(minutes, message)\n",
    "\n",
    "if __name__ == \"__main__\":\n",
    "    # List of timers with their respective durations and messages\n",
    "    timer_data = [(3, \"Now you should be DOING :::  REST coffee & ciggi  \"),\n",
    "                  (8, \"Now you should be DOING :::  email dad  \"),\n",
    "                  (5, \"Now you should be DOING :::  design  cards \"),\n",
    "                  (12, \"Now you should be DOING :::  CAI \"),\n",
    "                 (4, \"Now you should be DOING :::  ipy \"),\n",
    "                 (15, \"Now you should be DOING :::  apply \"),\n",
    "                 (25, \"Now you should be DOING :::  read one channel freq low and high \"),\n",
    "                 (8, \"Now you should be DOING :::  everything else freq wavs\"),]\n",
    "                 (30, \"Now you should be DOING :::  everything else freq wavs\"),]\n",
    "\n",
    "                \n",
    "    \n",
    "    set_up_multiple_timers(timer_data)\n"
   ]
  },
  {
   "cell_type": "code",
   "execution_count": 1,
   "id": "5cb03691",
   "metadata": {},
   "outputs": [
    {
     "name": "stdout",
     "output_type": "stream",
     "text": [
      "How many timers do you want to set up? 1\n",
      "Enter duration in minutes for Timer 1: 1\n",
      "Enter a message for Timer 1: Test\n",
      "Timer set for 1 minutes for: Test\n",
      "Test1\n"
     ]
    }
   ],
   "source": [
    "import time\n",
    "import os\n",
    "\n",
    "def countdown_timer(minutes, message):\n",
    "    seconds = minutes * 60\n",
    "    print(f\"Timer set for {minutes} minutes for: {message}\")\n",
    "    \n",
    "    while seconds > 0:\n",
    "        mins, secs = divmod(seconds, 60)\n",
    "        timeformat = \"{:02d}:{:02d}\".format(mins, secs)\n",
    "        print(timeformat, end='\\r')\n",
    "        time.sleep(1)\n",
    "        seconds -= 1\n",
    "\n",
    "    print(message)\n",
    "    # Play a sound - You may need to change the path to your desired sound file.\n",
    "    sound_file_path = \"alarm_2.wav\"\n",
    "    os.system(f\"afplay {sound_file_path}\")  # For macOS\n",
    "\n",
    "def set_up_timers():\n",
    "    num_timers = int(input(\"How many timers do you want to set up? \"))\n",
    "    timer_data = []\n",
    "    \n",
    "    for i in range(num_timers):\n",
    "        minutes = int(input(f\"Enter duration in minutes for Timer {i + 1}: \"))\n",
    "        message = input(f\"Enter a message for Timer {i + 1}: \")\n",
    "        timer_data.append((minutes, message))\n",
    "    \n",
    "    for minutes, message in timer_data:\n",
    "        countdown_timer(minutes, message)\n",
    "\n",
    "if __name__ == \"__main__\":\n",
    "    set_up_timers()\n"
   ]
  },
  {
   "cell_type": "code",
   "execution_count": null,
   "id": "f1412b29",
   "metadata": {},
   "outputs": [],
   "source": []
  },
  {
   "cell_type": "code",
   "execution_count": null,
   "id": "a4889af9",
   "metadata": {},
   "outputs": [],
   "source": []
  },
  {
   "cell_type": "code",
   "execution_count": null,
   "id": "3246f10d",
   "metadata": {},
   "outputs": [],
   "source": []
  },
  {
   "cell_type": "code",
   "execution_count": null,
   "id": "8857d238",
   "metadata": {},
   "outputs": [],
   "source": []
  },
  {
   "cell_type": "code",
   "execution_count": null,
   "id": "8e91adfe",
   "metadata": {},
   "outputs": [],
   "source": []
  },
  {
   "cell_type": "code",
   "execution_count": null,
   "id": "bc85dec7",
   "metadata": {},
   "outputs": [],
   "source": []
  },
  {
   "cell_type": "code",
   "execution_count": null,
   "id": "a16a7e5f",
   "metadata": {},
   "outputs": [],
   "source": []
  },
  {
   "cell_type": "code",
   "execution_count": null,
   "id": "fc35f6f5",
   "metadata": {},
   "outputs": [],
   "source": []
  },
  {
   "cell_type": "code",
   "execution_count": null,
   "id": "45c0dfed",
   "metadata": {},
   "outputs": [],
   "source": []
  }
 ],
 "metadata": {
  "kernelspec": {
   "display_name": "Python 3 (ipykernel)",
   "language": "python",
   "name": "python3"
  },
  "language_info": {
   "codemirror_mode": {
    "name": "ipython",
    "version": 3
   },
   "file_extension": ".py",
   "mimetype": "text/x-python",
   "name": "python",
   "nbconvert_exporter": "python",
   "pygments_lexer": "ipython3",
   "version": "3.10.9"
  }
 },
 "nbformat": 4,
 "nbformat_minor": 5
}
