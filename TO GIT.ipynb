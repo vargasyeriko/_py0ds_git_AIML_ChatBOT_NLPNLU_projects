{
 "cells": [
  {
   "cell_type": "code",
   "execution_count": null,
   "id": "d8dc2fc8-2141-4c3c-bd0d-76b20bfd50ca",
   "metadata": {},
   "outputs": [],
   "source": []
  },
  {
   "cell_type": "code",
   "execution_count": 20,
   "id": "756e9d9f-3a78-452b-80bd-b8250076d80e",
   "metadata": {
    "scrolled": true
   },
   "outputs": [
    {
     "name": "stdout",
     "output_type": "stream",
     "text": [
      "*** >> THIS IS THE REMOTE SET-UP now :::\n",
      "origin\tgit@github.com:vargasyeriko/_py0ds_git_AIML_ChatBOT_NLPNLU_projects.git (fetch)\n",
      "origin\tgit@github.com:vargasyeriko/_py0ds_git_AIML_ChatBOT_NLPNLU_projects.git (push)\n",
      "\n",
      "*** >> THIS DIREC set to REMOTE avobe  :::\n"
     ]
    },
    {
     "data": {
      "text/plain": [
       "'/Users/yerik/_apple_source/PY/JUPY/py0ds/_ds_git_'"
      ]
     },
     "execution_count": 20,
     "metadata": {},
     "output_type": "execute_result"
    }
   ],
   "source": [
    "# EMERGENCy rEsET\n",
    "#FIRST  COMMAND + shift +. to see .git hidden\n",
    "# AFTER DELETING REPO DO THIS   :\n",
    "#!git remote remove origin\n",
    "# THEN THIS HAS TO HAVE NOTHING :\n",
    "#!git remote -v\n",
    "\n",
    "### NOW START OVER \n",
    "# 0 # check for REMOTE\n",
    "print('*** >> THIS IS THE REMOTE SET-UP now :::')\n",
    "!git remote -v # if none CREATE REPO in GIT & GET URL: then\n",
    "# \n",
    "# 1 # initiate git REPO --------------- # JUST ONCE\n",
    "#!git init\n",
    "#\n",
    "# 2 # set remote to our project for this DIREC\n",
    "#!git remote add origin git@github.com:vargasyeriko/_py0ds_git_AIML_ChatBOT_NLPNLU_projects.git\n",
    "# \n",
    "# --------------- # THEN stage, commit, push \n",
    "#\n",
    "# check where you are and remember to check .git files\n",
    "import os\n",
    "print('\\n*** >> THIS DIREC set to REMOTE avobe  :::')\n",
    "os.getcwd()\n"
   ]
  },
  {
   "cell_type": "markdown",
   "id": "7c186974-a721-466b-bcbe-62b913abf846",
   "metadata": {},
   "source": [
    "# AFTER NEW CHANGES -> branch is main \n",
    "### 1) stage them\n",
    "### 2) commit them\n",
    "### 3) push changes"
   ]
  },
  {
   "cell_type": "code",
   "execution_count": 10,
   "id": "0b4b9ffa-c2b1-4bc8-84d0-040f25dcaba0",
   "metadata": {},
   "outputs": [],
   "source": [
    "# 1 # stage them\n",
    "!git add . \n",
    "# 2 # commit them\n",
    "!git commit -m \"Deleted a few files \"\n",
    "# 3 # push them \n",
    "!git push -u origin main"
   ]
  },
  {
   "cell_type": "markdown",
   "id": "8eaaffe2-7a0d-4133-acf0-2334576b6959",
   "metadata": {},
   "source": [
    "# LOOK FOR NOT-COMMITED changes, check log and branch "
   ]
  },
  {
   "cell_type": "code",
   "execution_count": 21,
   "id": "5967a3c5-8cee-4c0a-b3de-69347e917c12",
   "metadata": {},
   "outputs": [
    {
     "name": "stdout",
     "output_type": "stream",
     "text": [
      " \n",
      " <<< **************************************** >>> GIT VERSION :::\n",
      "git version 2.40.0\n",
      " <<<  ^^^ \n",
      "\n",
      " \n",
      " <<< **************************************** >>> GIT BRANCH :::\n",
      "* \u001b[32mmain\u001b[m\n",
      " <<<  ^^^ \n",
      "\n",
      " \n",
      " <<< **************************************** >>> UCOMMITED CHANGES :::\n",
      "On branch main\n",
      "Changes not staged for commit:\n",
      "  (use \"git add/rm <file>...\" to update what will be committed)\n",
      "  (use \"git restore <file>...\" to discard changes in working directory)\n",
      "\t\u001b[31mdeleted:    .ipynb_checkpoints/Untitled-checkpoint.ipynb\u001b[m\n",
      "\t\u001b[31mdeleted:    Untitled.ipynb\u001b[m\n",
      "\n",
      "Untracked files:\n",
      "  (use \"git add <file>...\" to include in what will be committed)\n",
      "\t\u001b[31m.ipynb_checkpoints/TO GIT-checkpoint.ipynb\u001b[m\n",
      "\t\u001b[31mTO GIT.ipynb\u001b[m\n",
      "\n",
      "no changes added to commit (use \"git add\" and/or \"git commit -a\")\n",
      " <<<  ^^^ \n",
      "\n",
      " \n",
      " <<< **************************************** >>> REMOTE set TO ::: \n",
      "origin\tgit@github.com:vargasyeriko/_py0ds_git_AIML_ChatBOT_NLPNLU_projects.git (fetch)\n",
      "origin\tgit@github.com:vargasyeriko/_py0ds_git_AIML_ChatBOT_NLPNLU_projects.git (push)\n",
      " <<<  ^^^ \n",
      "\n",
      " \n",
      " <<< **************************************** >>> DISPLAY DETAILS ::: \n",
      "user.name=yerik\n",
      "user.email=ygvargas93@gmail.com\n",
      "credential.helper=store\n",
      "init.defaultbranch=main\n",
      " <<<  ^^^ \n",
      "\n",
      " \n",
      " <<< **************************************** >>> GIT - LOG ::: \n",
      "\u001b[33mcommit bdb94e7539fbd32dfbef8cd07420c41125c4e3a9\u001b[m\u001b[33m (\u001b[m\u001b[1;36mHEAD -> \u001b[m\u001b[1;32mmain\u001b[m\u001b[33m)\u001b[m\n",
      "Author: yerik <ygvargas93@gmail.com>\n",
      "Date:   Tue Nov 14 10:56:03 2023 -0500\n",
      "\n",
      "    Adding new Ds to git\n",
      " <<<  ^^^ \n",
      "\n",
      " \n",
      " <<< **************************************** >>> GIT - FETCH latest CHANGES ::: \n",
      " <<<  ^^^ \n",
      "\n"
     ]
    }
   ],
   "source": [
    "print(' \\n <<< **************************************** >>> GIT VERSION :::')\n",
    "!git --version\n",
    "print(' <<<  ^^^ \\n')\n",
    "#\n",
    "print(' \\n <<< **************************************** >>> GIT BRANCH :::')\n",
    "!git branch\n",
    "print(' <<<  ^^^ \\n')\n",
    "#\n",
    "print(' \\n <<< **************************************** >>> UCOMMITED CHANGES :::')\n",
    "!git status \n",
    "print(' <<<  ^^^ \\n')\n",
    "#\n",
    "print(' \\n <<< **************************************** >>> REMOTE set TO ::: ')\n",
    "!git remote -v \n",
    "#This command displays the URLs of the remote repositories your local repository is connected to\n",
    "print(' <<<  ^^^ \\n')\n",
    "#\n",
    "print(' \\n <<< **************************************** >>> DISPLAY DETAILS ::: ')\n",
    "!git config --global --list # !git config --list\n",
    "print(' <<<  ^^^ \\n')\n",
    "#\n",
    "print(' \\n <<< **************************************** >>> GIT - LOG ::: ')\n",
    "!git log\n",
    "print(' <<<  ^^^ \\n')\n",
    "#\n",
    "print(' \\n <<< **************************************** >>> GIT - FETCH latest CHANGES ::: ')\n",
    "!git fetch\n",
    "print(' <<<  ^^^ \\n')\n"
   ]
  },
  {
   "cell_type": "code",
   "execution_count": null,
   "id": "d2fcee51-4df5-4d77-a3a9-158b8e27e6f9",
   "metadata": {},
   "outputs": [],
   "source": []
  }
 ],
 "metadata": {
  "kernelspec": {
   "display_name": "Python 3 (ipykernel)",
   "language": "python",
   "name": "python3"
  },
  "language_info": {
   "codemirror_mode": {
    "name": "ipython",
    "version": 3
   },
   "file_extension": ".py",
   "mimetype": "text/x-python",
   "name": "python",
   "nbconvert_exporter": "python",
   "pygments_lexer": "ipython3",
   "version": "3.12.0"
  }
 },
 "nbformat": 4,
 "nbformat_minor": 5
}
